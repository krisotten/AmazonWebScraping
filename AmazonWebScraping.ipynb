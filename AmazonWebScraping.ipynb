{
 "cells": [
  {
   "cell_type": "markdown",
   "id": "96ad9f39",
   "metadata": {},
   "source": [
    "# Amazon Web Scraping Project"
   ]
  },
  {
   "cell_type": "markdown",
   "id": "d5376db9",
   "metadata": {},
   "source": [
    "In this project, I scrape data from Amazon to find the title and price of a certain listing. I then created a function to continually check the title and price of the listing and add the data to a CSV file along with the day that the record was added. I used a while loop to automatically run the function every 24 hours in order to check if the price changes and on what day the price changed."
   ]
  },
  {
   "cell_type": "code",
   "execution_count": 1,
   "id": "c50f5139",
   "metadata": {},
   "outputs": [],
   "source": [
    "#Import the necessary libraries\n",
    "\n",
    "import cloudscraper\n",
    "import pandas as pd\n",
    "from bs4 import BeautifulSoup\n",
    "import csv\n",
    "import datetime\n",
    "import time\n",
    "from time import sleep\n",
    "\n",
    "scraper = cloudscraper.create_scraper()\n",
    "\n",
    "#Get HTML code from URL using Beautiful Soup\n",
    "\n",
    "r = scraper.get('https://www.amazon.com/Funny-Data-Systems-Business-Analyst/dp/B07FNW9FGJ/ref=sr_1_3?dchild=1&keywords=data%2Banalyst%2Btshirt&qid=1626655184&sr=8-3&customId=B0752XJYNL&th=1')\n",
    "soup = BeautifulSoup(r.content, 'html.parser')\n",
    "\n",
    "#Clean up the HTML code using .prettify()\n",
    "\n",
    "soup_clean = BeautifulSoup(soup.prettify(), \"html.parser\")"
   ]
  },
  {
   "cell_type": "code",
   "execution_count": 5,
   "id": "a0dc5e6a",
   "metadata": {
    "scrolled": false
   },
   "outputs": [
    {
     "name": "stdout",
     "output_type": "stream",
     "text": [
      "\n",
      "                Funny Got Data MIS Data Systems Business Analyst T-Shirt\n",
      "               \n",
      "\n",
      "              $16.99\n",
      "             \n"
     ]
    }
   ],
   "source": [
    "#Find the title and price of the item based on their ID and class in the HTML code\n",
    "\n",
    "title = soup_clean.find(id='productTitle').get_text()\n",
    "price = soup_clean.find(attrs={'class':'aok-offscreen'}).get_text()\n",
    "\n",
    "print(title)\n",
    "print(price)"
   ]
  },
  {
   "cell_type": "code",
   "execution_count": 6,
   "id": "43abec62",
   "metadata": {},
   "outputs": [
    {
     "name": "stdout",
     "output_type": "stream",
     "text": [
      "Funny Got Data MIS Data Systems Business Analyst T-Shirt\n",
      "16.99\n"
     ]
    }
   ],
   "source": [
    "#Remove white space from title and price values and remove dollar sign from price value\n",
    "\n",
    "title = title.strip()\n",
    "price = price.strip()[1:]\n",
    "\n",
    "print(title)\n",
    "print(price)"
   ]
  },
  {
   "cell_type": "code",
   "execution_count": 7,
   "id": "e5434b68",
   "metadata": {},
   "outputs": [
    {
     "name": "stdout",
     "output_type": "stream",
     "text": [
      "2023-08-12\n"
     ]
    }
   ],
   "source": [
    "#Get today's date using datetime\n",
    "\n",
    "today = datetime.date.today()\n",
    "\n",
    "print(today)"
   ]
  },
  {
   "cell_type": "code",
   "execution_count": 8,
   "id": "ca64258d",
   "metadata": {
    "scrolled": true
   },
   "outputs": [],
   "source": [
    "#Create CSV file to store the title, price, and date the data was added to the CSV\n",
    "\n",
    "headers = ['Title', 'Price', 'Date']\n",
    "data = [title, price, today]\n",
    "\n",
    "with open('AmazonWebScrapeData.csv', 'w', newline='', encoding='UTF8') as file:\n",
    "    writer = csv.writer(file)\n",
    "    writer.writerow(headers)\n",
    "    writer.writerow(data)"
   ]
  },
  {
   "cell_type": "code",
   "execution_count": 9,
   "id": "bebc161d",
   "metadata": {},
   "outputs": [],
   "source": [
    "#Appending data to CSV file\n",
    "data = [title, price, today]\n",
    "\n",
    "with open('AmazonWebScrapeData.csv', 'a+', newline='', encoding='UTF8') as f:\n",
    "    writer = csv.writer(f)\n",
    "    writer.writerow(data)"
   ]
  },
  {
   "cell_type": "code",
   "execution_count": 2,
   "id": "b1bc5df5",
   "metadata": {},
   "outputs": [],
   "source": [
    "#Create function to check the price of the item \n",
    "\n",
    "def check_price():\n",
    "    #Get HTML code from URL using Beautiful Soup\n",
    "    scraper = cloudscraper.create_scraper()\n",
    "    r = scraper.get('https://www.amazon.com/Funny-Data-Systems-Business-Analyst/dp/B07FNW9FGJ/ref=sr_1_3?dchild=1&keywords=data%2Banalyst%2Btshirt&qid=1626655184&sr=8-3&customId=B0752XJYNL&th=1')\n",
    "    soup = BeautifulSoup(r.content, 'html.parser')\n",
    "\n",
    "    #Clean up the HTML code using .prettify()\n",
    "    soup_clean = BeautifulSoup(soup.prettify(), \"html.parser\")\n",
    "    \n",
    "    #Find the title and price of the item based on their ID and class in the HTML code\n",
    "    title = soup_clean.find(id='productTitle').get_text()\n",
    "    price = soup_clean.find(attrs={'class':'aok-offscreen'}).get_text()\n",
    "    \n",
    "    #Remove white space from title and price values and remove dollar sign from price value\n",
    "    title = title.strip()\n",
    "    price = price.strip()[1:]\n",
    "    \n",
    "    #Get today's date using datetime\n",
    "    today = datetime.date.today()\n",
    "    \n",
    "    #Create list of data to be appended as a row of the CSV file\n",
    "    data = [title, price, today]\n",
    "    \n",
    "    #Append data to CSV file\n",
    "    with open('AmazonWebScrapeData.csv', 'a+', newline='', encoding='UTF8') as file:\n",
    "        writer = csv.writer(file)\n",
    "        writer.writerow(data)"
   ]
  },
  {
   "cell_type": "code",
   "execution_count": null,
   "id": "cfc713d3",
   "metadata": {},
   "outputs": [],
   "source": [
    "#Create a while loop to run the check_price() function every 24 hours to check if the item's price has changed\n",
    "\n",
    "while(True):\n",
    "    check_price()\n",
    "    time.sleep(86400)"
   ]
  },
  {
   "cell_type": "code",
   "execution_count": 17,
   "id": "6c4fb046",
   "metadata": {
    "scrolled": true
   },
   "outputs": [
    {
     "name": "stdout",
     "output_type": "stream",
     "text": [
      "                                               Title  Price\n",
      "0  Funny Got Data MIS Data Systems Business Analy...  16.99\n"
     ]
    }
   ],
   "source": [
    "#Use pandas to view the CSV here as a DataFrame\n",
    "\n",
    "df = pd.read_csv('/Users/kristenotten/Desktop/AmazonWebScrapeData.csv')\n",
    "\n",
    "print(df)"
   ]
  }
 ],
 "metadata": {
  "kernelspec": {
   "display_name": "Python 3 (ipykernel)",
   "language": "python",
   "name": "python3"
  },
  "language_info": {
   "codemirror_mode": {
    "name": "ipython",
    "version": 3
   },
   "file_extension": ".py",
   "mimetype": "text/x-python",
   "name": "python",
   "nbconvert_exporter": "python",
   "pygments_lexer": "ipython3",
   "version": "3.10.9"
  }
 },
 "nbformat": 4,
 "nbformat_minor": 5
}
